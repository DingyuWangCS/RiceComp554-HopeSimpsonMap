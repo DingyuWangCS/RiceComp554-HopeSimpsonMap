{
 "cells": [
  {
   "cell_type": "markdown",
   "metadata": {},
   "source": [
    "# Dataset - All\n",
    "\n",
    "Merge datasets \"global\", \"US\", and \"Brazil\"."
   ]
  },
  {
   "cell_type": "code",
   "execution_count": 1,
   "metadata": {},
   "outputs": [],
   "source": [
    "import pandas as pd"
   ]
  },
  {
   "cell_type": "markdown",
   "metadata": {},
   "source": [
    "## Initialize"
   ]
  },
  {
   "cell_type": "code",
   "execution_count": 2,
   "metadata": {
    "scrolled": true
   },
   "outputs": [],
   "source": [
    "srcGlobal = \"./time_series_covid19_confirmed_global_transformed.csv\"\n",
    "srcUS = \"./time_series_covid19_confirmed_US_transformed.csv\"\n",
    "srcBrazil = \"./time_series_covid19_confirmed_brazil_transformed.csv\"\n",
    "dest = \"./time_series_covid19_confirmed_all.csv\"\n",
    "\n",
    "# Read data\n",
    "globalDf = pd.read_csv(srcGlobal)\n",
    "usDf = pd.read_csv(srcUS)\n",
    "brazilDf = pd.read_csv(srcBrazil)"
   ]
  },
  {
   "cell_type": "markdown",
   "metadata": {},
   "source": [
    "## Data Manipulation"
   ]
  },
  {
   "cell_type": "code",
   "execution_count": 3,
   "metadata": {},
   "outputs": [],
   "source": [
    "# Drop Brazil data from globalDf\n",
    "globalDf = globalDf[globalDf.Country_Region != \"Brazil\"]\n",
    "\n",
    "# Update date format for Brazil dataset\n",
    "for index, row in brazilDf.iterrows():\n",
    "    date = row[\"Date\"]\n",
    "    yy, mm, dd = date.split(\"-\")\n",
    "    brazilDf.at[index, \"Date\"] = mm + \"/\" + dd + \"/\" + yy[2:]\n",
    "\n",
    "# Merge datasets\n",
    "finalDf = pd.concat([globalDf, usDf], axis = 0)\n",
    "finalDf = pd.concat([finalDf, brazilDf], axis = 0).reset_index(drop = True)"
   ]
  },
  {
   "cell_type": "code",
   "execution_count": 4,
   "metadata": {
    "scrolled": true
   },
   "outputs": [
    {
     "data": {
      "text/html": [
       "<div>\n",
       "<style scoped>\n",
       "    .dataframe tbody tr th:only-of-type {\n",
       "        vertical-align: middle;\n",
       "    }\n",
       "\n",
       "    .dataframe tbody tr th {\n",
       "        vertical-align: top;\n",
       "    }\n",
       "\n",
       "    .dataframe thead th {\n",
       "        text-align: right;\n",
       "    }\n",
       "</style>\n",
       "<table border=\"1\" class=\"dataframe\">\n",
       "  <thead>\n",
       "    <tr style=\"text-align: right;\">\n",
       "      <th></th>\n",
       "      <th>Province_State</th>\n",
       "      <th>Country_Region</th>\n",
       "      <th>Lat</th>\n",
       "      <th>Long</th>\n",
       "      <th>Date</th>\n",
       "      <th>Confirmed Cases</th>\n",
       "    </tr>\n",
       "  </thead>\n",
       "  <tbody>\n",
       "    <tr>\n",
       "      <th>0</th>\n",
       "      <td>Afghanistan</td>\n",
       "      <td>Afghanistan</td>\n",
       "      <td>33.93911</td>\n",
       "      <td>67.709953</td>\n",
       "      <td>1/22/20</td>\n",
       "      <td>NaN</td>\n",
       "    </tr>\n",
       "    <tr>\n",
       "      <th>1</th>\n",
       "      <td>Albania</td>\n",
       "      <td>Albania</td>\n",
       "      <td>41.15330</td>\n",
       "      <td>20.168300</td>\n",
       "      <td>1/22/20</td>\n",
       "      <td>NaN</td>\n",
       "    </tr>\n",
       "    <tr>\n",
       "      <th>2</th>\n",
       "      <td>Algeria</td>\n",
       "      <td>Algeria</td>\n",
       "      <td>28.03390</td>\n",
       "      <td>1.659600</td>\n",
       "      <td>1/22/20</td>\n",
       "      <td>NaN</td>\n",
       "    </tr>\n",
       "    <tr>\n",
       "      <th>3</th>\n",
       "      <td>Andorra</td>\n",
       "      <td>Andorra</td>\n",
       "      <td>42.50630</td>\n",
       "      <td>1.521800</td>\n",
       "      <td>1/22/20</td>\n",
       "      <td>NaN</td>\n",
       "    </tr>\n",
       "    <tr>\n",
       "      <th>4</th>\n",
       "      <td>Angola</td>\n",
       "      <td>Angola</td>\n",
       "      <td>-11.20270</td>\n",
       "      <td>17.873900</td>\n",
       "      <td>1/22/20</td>\n",
       "      <td>NaN</td>\n",
       "    </tr>\n",
       "    <tr>\n",
       "      <th>...</th>\n",
       "      <td>...</td>\n",
       "      <td>...</td>\n",
       "      <td>...</td>\n",
       "      <td>...</td>\n",
       "      <td>...</td>\n",
       "      <td>...</td>\n",
       "    </tr>\n",
       "    <tr>\n",
       "      <th>89133</th>\n",
       "      <td>Santa Catarina</td>\n",
       "      <td>Brazil</td>\n",
       "      <td>-27.61200</td>\n",
       "      <td>-48.485000</td>\n",
       "      <td>10/11/20</td>\n",
       "      <td>599.0</td>\n",
       "    </tr>\n",
       "    <tr>\n",
       "      <th>89134</th>\n",
       "      <td>Sergipe</td>\n",
       "      <td>Brazil</td>\n",
       "      <td>-10.91700</td>\n",
       "      <td>-37.050000</td>\n",
       "      <td>10/11/20</td>\n",
       "      <td>395.0</td>\n",
       "    </tr>\n",
       "    <tr>\n",
       "      <th>89135</th>\n",
       "      <td>Sao Paulo</td>\n",
       "      <td>Brazil</td>\n",
       "      <td>-23.55000</td>\n",
       "      <td>-46.633000</td>\n",
       "      <td>10/11/20</td>\n",
       "      <td>2844.0</td>\n",
       "    </tr>\n",
       "    <tr>\n",
       "      <th>89136</th>\n",
       "      <td>Tocantins</td>\n",
       "      <td>Brazil</td>\n",
       "      <td>-10.18400</td>\n",
       "      <td>-48.334000</td>\n",
       "      <td>10/11/20</td>\n",
       "      <td>0.0</td>\n",
       "    </tr>\n",
       "    <tr>\n",
       "      <th>89137</th>\n",
       "      <td>Brazil</td>\n",
       "      <td>Brazil</td>\n",
       "      <td>-14.20000</td>\n",
       "      <td>-51.900000</td>\n",
       "      <td>10/11/20</td>\n",
       "      <td>11496.0</td>\n",
       "    </tr>\n",
       "  </tbody>\n",
       "</table>\n",
       "<p>89138 rows × 6 columns</p>\n",
       "</div>"
      ],
      "text/plain": [
       "       Province_State Country_Region       Lat       Long      Date  \\\n",
       "0         Afghanistan    Afghanistan  33.93911  67.709953   1/22/20   \n",
       "1             Albania        Albania  41.15330  20.168300   1/22/20   \n",
       "2             Algeria        Algeria  28.03390   1.659600   1/22/20   \n",
       "3             Andorra        Andorra  42.50630   1.521800   1/22/20   \n",
       "4              Angola         Angola -11.20270  17.873900   1/22/20   \n",
       "...               ...            ...       ...        ...       ...   \n",
       "89133  Santa Catarina         Brazil -27.61200 -48.485000  10/11/20   \n",
       "89134         Sergipe         Brazil -10.91700 -37.050000  10/11/20   \n",
       "89135       Sao Paulo         Brazil -23.55000 -46.633000  10/11/20   \n",
       "89136       Tocantins         Brazil -10.18400 -48.334000  10/11/20   \n",
       "89137          Brazil         Brazil -14.20000 -51.900000  10/11/20   \n",
       "\n",
       "       Confirmed Cases  \n",
       "0                  NaN  \n",
       "1                  NaN  \n",
       "2                  NaN  \n",
       "3                  NaN  \n",
       "4                  NaN  \n",
       "...                ...  \n",
       "89133            599.0  \n",
       "89134            395.0  \n",
       "89135           2844.0  \n",
       "89136              0.0  \n",
       "89137          11496.0  \n",
       "\n",
       "[89138 rows x 6 columns]"
      ]
     },
     "execution_count": 4,
     "metadata": {},
     "output_type": "execute_result"
    }
   ],
   "source": [
    "finalDf"
   ]
  },
  {
   "cell_type": "markdown",
   "metadata": {},
   "source": [
    "## Save Dataframe"
   ]
  },
  {
   "cell_type": "code",
   "execution_count": 5,
   "metadata": {},
   "outputs": [],
   "source": [
    "finalDf.to_csv(dest, index = False)"
   ]
  }
 ],
 "metadata": {
  "kernelspec": {
   "display_name": "comp554",
   "language": "python",
   "name": "comp554"
  },
  "language_info": {
   "codemirror_mode": {
    "name": "ipython",
    "version": 3
   },
   "file_extension": ".py",
   "mimetype": "text/x-python",
   "name": "python",
   "nbconvert_exporter": "python",
   "pygments_lexer": "ipython3",
   "version": "3.7.7"
  }
 },
 "nbformat": 4,
 "nbformat_minor": 2
}
